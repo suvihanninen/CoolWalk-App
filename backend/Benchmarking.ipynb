{
 "cells": [
  {
   "cell_type": "code",
   "execution_count": 32,
   "metadata": {},
   "outputs": [],
   "source": [
    "# import modules\n",
    "import geopandas as gpd\n",
    "import matplotlib.pyplot as plt\n",
    "#from shapely import wkt\n",
    "from shapely.geometry import Point\n",
    "#import shapely\n",
    "import osmnx as ox\n",
    "import pandas as pd\n",
    "import networkx as nx\n",
    "from shapely.geometry import LineString\n",
    "from tabulate import tabulate\n",
    "import math as math\n",
    "from geojson import Feature, LineString, FeatureCollection\n",
    "import random\n",
    "import statistics\n",
    "import matplotlib.pyplot as plt\n",
    "from scipy.stats import norm\n",
    "import numpy as np\n",
    "\n",
    "\n"
   ]
  },
  {
   "cell_type": "code",
   "execution_count": 33,
   "metadata": {},
   "outputs": [],
   "source": [
    "# Reading csv files into panda DataFrames\n",
    "dfNodes = pd.read_csv(\"/Users/suvihanninen/Desktop/Research_project/CoolWalk/data_Nottingham/nottingham_nodes.csv\")\n",
    "dfEdges = pd.read_csv(\"/Users/suvihanninen/Desktop/Research_project/CoolWalk/data_Nottingham/nottingham_edges.csv\")\n"
   ]
  },
  {
   "cell_type": "code",
   "execution_count": 34,
   "metadata": {},
   "outputs": [],
   "source": [
    "# Reading csv files into panda DataFrames\n",
    "#dfNodes = pd.read_csv(\"/mnt/c/users/kriso/documents/itu/5th_semester/research_project/CoolWalk/data/CoolWalksDataStorge/nodes.csv\")\n",
    "#dfEdges = pd.read_csv(\"/mnt/c/users/kriso/documents/itu/5th_semester/research_project/CoolWalk/data/CoolWalksDataStorge/edges.csv\")"
   ]
  },
  {
   "cell_type": "code",
   "execution_count": 35,
   "metadata": {},
   "outputs": [],
   "source": [
    "#Dont execute\n",
    "\n",
    "#TODO If shadow is None it is 0. However, our current cost-function is not compatible with this, since it is a division, and will thus result in division by 0 errors.\n",
    "#   TEMPORARY SOLUTION: Dont execute this cell. Let the shortest_path_algorithm cost-function fill out the None shadow values with 1. \n",
    "\n",
    "#Find and replace all None-valued 'shadowed_length' instances in edges with 0\n",
    "#dfEdges['shadowed_length'] = dfEdges['shadowed_length'].fillna(0)"
   ]
  },
  {
   "cell_type": "code",
   "execution_count": 36,
   "metadata": {},
   "outputs": [],
   "source": [
    "# Find and replace all None-valued 'full_length' instances in edges with the average full_length value\n",
    "#(dfEdges['full_length'].mean())"
   ]
  },
  {
   "cell_type": "code",
   "execution_count": 37,
   "metadata": {},
   "outputs": [],
   "source": [
    "# Find and discard helper nodes from dfNodes. Helper nodes do not have a 'geopoint' attribute value in the dataframe\n",
    "    # Only rows with helper=Nan should remain\n",
    "dfNodes.drop(dfNodes[dfNodes.osm_id == 0].index, inplace=True)\n",
    "#print(tabulate(gdfNodes, headers='keys', tablefmt='psql'))"
   ]
  },
  {
   "cell_type": "code",
   "execution_count": 38,
   "metadata": {},
   "outputs": [],
   "source": [
    "# Find and discard helper edges from gdfEdges\n",
    "    # Only rows with helper=NaN should remain\n",
    "dfEdges.drop(dfEdges[dfEdges.helper == True].index, inplace=True)\n",
    "#print(tabulate(gdfEdges, headers='keys', tablefmt='psql'))"
   ]
  },
  {
   "cell_type": "code",
   "execution_count": 39,
   "metadata": {},
   "outputs": [],
   "source": [
    "# Setting osmid as index for nodes (mutating the dataframe). ATTENTION! the osmnx code will create the x_lookup and y_lookup dictionaries based on the index of the nodes data frame. That is, the keys of these dictionaries will consist\n",
    "# of the values of the index column, and the values will be the lon(x_lookup) and lat(y_lookup) values respectively   \n",
    "\n",
    "dfNodes.set_index('vertex_id', inplace=True) \n",
    "#dfNodes.set_index('osm_id', inplace=True) \n",
    "\n",
    "\n",
    "\n",
    "#Printing dataframes in readable format\n",
    "#print(tabulate(gdfNodes, headers='keys', tablefmt='psql'))"
   ]
  },
  {
   "cell_type": "code",
   "execution_count": 40,
   "metadata": {},
   "outputs": [],
   "source": [
    "#setting src_id, dst_id and osm_id of edge geodf´s as the multiindex(u, v, key) of each node (mutating the dataframe)\n",
    "dfEdges.set_index(['src_id','dst_id','osm_id'], inplace=True) #should we use the osm_id from the Nodes instead, since Henrik says they have 0 values to indicate multi-edges, which is what the value 'k' is intended for in the documentation of utils_graph.graph_from_gdfs\n",
    "\n",
    "#Printing dataframes in readable format\n",
    "#print(tabulate(gdfEdges, headers='keys', tablefmt='psql'))"
   ]
  },
  {
   "cell_type": "code",
   "execution_count": 41,
   "metadata": {},
   "outputs": [],
   "source": [
    "# Transforming relevant columns of DataFrames into GeoSeries to be used as geometry column of GeoDataFrames\n",
    "dfNodes['pointgeom'] = gpd.GeoSeries.from_wkt(dfNodes['pointgeom'])\n",
    "dfEdges['edgegeom'] = gpd.GeoSeries.from_wkt(dfEdges['edgegeom'])"
   ]
  },
  {
   "cell_type": "code",
   "execution_count": 42,
   "metadata": {},
   "outputs": [],
   "source": [
    "# Defining GeoDataFrames with GeoSeries columns from above\n",
    "gdfNodes = gpd.GeoDataFrame(dfNodes, geometry='pointgeom', crs=\"EPSG:27700\")\n",
    "gdfEdges = gpd.GeoDataFrame(dfEdges, geometry='edgegeom', crs=\"EPSG:27700\")"
   ]
  },
  {
   "cell_type": "code",
   "execution_count": 43,
   "metadata": {},
   "outputs": [],
   "source": [
    "# Data wrangling: Editing/andjustment GeoDataFrames\n",
    "gdfNodes.rename(columns = {'lat':'x', 'lon':'y'}, inplace = True)\n",
    "gdfNodes[\"x\"] = gdfNodes[\"pointgeom\"].x\n",
    "gdfNodes[\"y\"] = gdfNodes[\"pointgeom\"].y\n",
    "\n",
    "#print(tabulate(gdfEdges, headers='keys', tablefmt='psql'))\n",
    "#print(gdfEdges)\n",
    "\n"
   ]
  },
  {
   "cell_type": "code",
   "execution_count": 44,
   "metadata": {},
   "outputs": [],
   "source": [
    "G = ox.utils_graph.graph_from_gdfs(gdfNodes, gdfEdges, graph_attrs=None)"
   ]
  },
  {
   "cell_type": "code",
   "execution_count": 45,
   "metadata": {},
   "outputs": [],
   "source": [
    "def weigth_function_original(u, v, d):\n",
    "    assert len(list(attr.get('full_length', 1) for attr in d.values())) == 1 #the graph only have one sttribute with name = 'full_length'\n",
    "    dict = list(d.values())[0].get('full_length')  # w could perhaps also just access full_length and shadowed_length in this way?\n",
    "    if dict is not None : #apparently some edges does not have a 'full_length' attribute, and in that case the attribute value will be none. check in the data frame for none values\n",
    "        print(dict)\n",
    "    full_length = min(attr.get('full_length', 1) for attr in d.values()) #if 'full_length' value is None, then it will default to 1... keyError will return None because we use the get() method\n",
    "    shadow_length = min(attr.get('shadowed_length', 1) for attr in d.values())\n",
    "    result = full_length/shadow_length # we get many 1´s, which either because they default to 1, or because shadow_length==full_length(very unlikely). So in the next line, we filter out all the 1´s to make sure that we actually have real meaningfull values\n",
    "    if not math.isclose(result, 1): #\n",
    "        print(result)\n",
    "    return result"
   ]
  },
  {
   "cell_type": "code",
   "execution_count": 113,
   "metadata": {},
   "outputs": [],
   "source": [
    "def weight_function_1(u, v, d):\n",
    "    #print(d.values())\n",
    "    assert len(list(attr.get('full_length', 1) for attr in d.values())) == 1 #the graph only have one sttribute with name = 'full_length'\n",
    "    dict = list(d.values())[0].get('full_length')  # w could perhaps also just access full_length and shadowed_length in this way?\n",
    "    #if dict is not None : #apparently some edges does not have a 'full_length' attribute, and in that case the attribute value will be none. check in the data frame for none values\n",
    "    #    print(dict)\n",
    "    full_length = min(attr.get('full_length', 1) for attr in d.values()) #if 'full_length' value is None, then it will default to 1... keyError will return None because we use the get() method\n",
    "    shadow_length = min(attr.get('shadowed_length', 1) for attr in d.values())\n",
    "    if shadow_length == 0 :\n",
    "       return full_length\n",
    "\n",
    "    result = (shadow_length/full_length) + (full_length/shadow_length) # we get many 1´s, which either because they default to 1, or because shadow_length==full_length(very unlikely). So in the next line, we filter out all the 1´s to make sure that we actually have real meaningfull values\n",
    "    #if not math.isclose(result, 1): #\n",
    "    #    print(result)\n",
    "\n",
    "    #full_length = min(attr.get('full_length', 0) for attr in d.values()) \n",
    "  \n",
    "    # print(\"scr = \",end='') \n",
    "    # print(u)    \n",
    "    # print(\"dst = \",end='') \n",
    "    # print(v)\n",
    "    # print(\"full_length = \",end='') \n",
    "    # print(full_length)\n",
    "    # print(\"shadow_length = \",end='')\n",
    "    # print(shadow_length)\n",
    "    # print(\"cost = \",end='')\n",
    "    # print(result)\n",
    "    # print()\n",
    "    return result"
   ]
  },
  {
   "cell_type": "code",
   "execution_count": 216,
   "metadata": {},
   "outputs": [],
   "source": [
    "def weight_function_2(u, v, d):\n",
    "    #print(d.values())\n",
    "    assert len(list(attr.get('full_length', 0) for attr in d.values())) == 1 #the graph only have one sttribute with name = 'full_length'\n",
    "    dict = list(d.values())[0].get('full_length')  # w could perhaps also just access full_length and shadowed_length in this way?\n",
    "    #if dict is not None : #apparently some edges does not have a 'full_length' attribute, and in that case the attribute value will be none. check in the data frame for none values\n",
    "    #    print(dict)\n",
    "    full_length = min(attr.get('full_length', 0) for attr in d.values()) #if 'full_length' value is None, then it will default to 1... keyError will return None because we use the get() method\n",
    "    shadow_length = min(attr.get('shadowed_length', 0) for attr in d.values())\n",
    "    sunny_length = full_length-shadow_length\n",
    "    result = (full_length) + (sunny_length) # Applying statistical weights to sunny length and full length\n",
    "    #if not math.isclose(result, 1): #\n",
    "    #    print(result)\n",
    "\n",
    "    # print(\"scr = \",end='') \n",
    "    # print(u)    \n",
    "    # print(\"dst = \",end='') \n",
    "    # print(v)\n",
    "    # print(\"full_length = \",end='') \n",
    "    # print(full_length)\n",
    "    # print(\"shadow_length = \",end='')\n",
    "    # print(shadow_length)\n",
    "    # print(\"cost = \",end='')\n",
    "    # print(result)\n",
    "    # print()\n",
    "\n",
    "    return result"
   ]
  },
  {
   "cell_type": "code",
   "execution_count": 48,
   "metadata": {},
   "outputs": [],
   "source": [
    "optimal_path_test1 = nx.shortest_path(G, source=24987, target=216, weight=weight_function_1)"
   ]
  },
  {
   "cell_type": "code",
   "execution_count": 49,
   "metadata": {},
   "outputs": [],
   "source": [
    "optimal_path_test1 = nx.shortest_path(G, source=24987, target=216, weight=weight_function_2)"
   ]
  },
  {
   "cell_type": "code",
   "execution_count": 50,
   "metadata": {},
   "outputs": [],
   "source": [
    "regular_shortest_path = nx.shortest_path(G, source=24987, target=216, weight='full_length')"
   ]
  },
  {
   "cell_type": "code",
   "execution_count": 51,
   "metadata": {},
   "outputs": [],
   "source": [
    "#Graph inspection/extraction\n",
    "\n",
    "# Extracting the attributes of a given edge(u,v) only by providing scr_id and dst_id. The edge data is given as dict. Afterwards specifying which attribute value to get.\n",
    "def get_src_dst_distance(src, dst):\n",
    "     edge_data = G.get_edge_data(src,dst) #ATTENTION! 3rd argument of this function is what should be returned in case edge(u,v) is not found. It defaults to a None object, and thus we put this statement i a try statement to handle such a case\n",
    "     #print(edge_data)\n",
    "     try:\n",
    "          return (min(attr.get('full_length', 0) for attr in edge_data.values())) # Should the value of the specified attribute be None, then the returned value will default to 0\n",
    "     except AttributeError: \n",
    "         print(\"edge with given scr and dst does not exist in data set\")"
   ]
  },
  {
   "cell_type": "code",
   "execution_count": 52,
   "metadata": {},
   "outputs": [],
   "source": [
    "#Graph inspection/extraction\n",
    "\n",
    "# Extracting the attributes of a given edge(u,v) only by providing scr_id and dst_id. The edge data is given as dict. Afterwards specifying which attribute value to get.\n",
    "def get_src_dst_shadowed_distance(src, dst):\n",
    "     edge_data = G.get_edge_data(src,dst) #ATTENTION! 3rd argument of this function is what should be returned in case edge(u,v) is not found. It defaults to a None object, and thus we put this statement i a try statement to handle such a case\n",
    "     #print(edge_data)\n",
    "     try:\n",
    "          return (min(attr.get('shadowed_length', 0) for attr in edge_data.values())) # Should the value of the specified attribute be None, then the returned value will default to 0\n",
    "     except AttributeError: \n",
    "         print(\"edge with given scr and dst does not exist in data set\")"
   ]
  },
  {
   "cell_type": "code",
   "execution_count": 98,
   "metadata": {},
   "outputs": [],
   "source": [
    "# Function for getting the total length of a path\n",
    "#Here we get the length of a path\n",
    "def get_total_path_length(path):\n",
    "    try:\n",
    "        total_length = 0\n",
    "        for index,scr in enumerate(path):\n",
    "            if(index==len(path)-1):\n",
    "                break\n",
    "            dst = path[index+1]\n",
    "            scr_dst_distance = get_src_dst_distance(scr, dst)\n",
    "            total_length += scr_dst_distance\n",
    "        return total_length\n",
    "    except TypeError:\n",
    "        print(\"No distance between given scr and dst\")\n"
   ]
  },
  {
   "cell_type": "code",
   "execution_count": 99,
   "metadata": {},
   "outputs": [],
   "source": [
    "#Length of the shadow\n",
    "\n",
    "def get_total_path_shadowed_length(path):\n",
    "    try:\n",
    "        total_length = 0\n",
    "        for index,scr in enumerate(path):\n",
    "            if(index==len(path)-1):\n",
    "                break\n",
    "            dst = path[index+1]\n",
    "            scr_dst_distance = get_src_dst_shadowed_distance(scr, dst)\n",
    "            total_length += scr_dst_distance\n",
    "        return total_length\n",
    "    except TypeError:\n",
    "        print(\"No distance between given scr and dst\")"
   ]
  },
  {
   "cell_type": "code",
   "execution_count": 100,
   "metadata": {},
   "outputs": [],
   "source": [
    "# Testing \n",
    "\n",
    "# Function for getting the fraction of a path which is covered by shadow\n",
    "\n",
    "def get_shadowed_part_of_path(path):\n",
    "    try:\n",
    "        shadowed_part = get_total_path_shadowed_length(path) / get_total_path_length(path)\n",
    "        return shadowed_part\n",
    "    except TypeError:\n",
    "        print(\"No distance between given scr and dst\")\n"
   ]
  },
  {
   "cell_type": "code",
   "execution_count": 56,
   "metadata": {},
   "outputs": [],
   "source": [
    "###Generate 80 paths and append them to a list. After calculate \n",
    "# - get_shadowed_part_of_path\n",
    "# - get_total_path_shadowed_length\n",
    "# - get_total_path_length\n",
    "\n",
    "# Append these values to a list\n",
    "# Calculate Mean, Median and Mode"
   ]
  },
  {
   "cell_type": "code",
   "execution_count": 170,
   "metadata": {},
   "outputs": [],
   "source": [
    "def get_80_paths(srcList, destList, cost):\n",
    "    list_of_paths = []\n",
    "\n",
    "    for i in range(5):\n",
    "    \n",
    "        path = nx.shortest_path(G, srcList[i], destList[i], weight=cost)\n",
    "        list_of_paths.append(path)\n",
    "    \n",
    "    return list_of_paths"
   ]
  },
  {
   "cell_type": "code",
   "execution_count": 172,
   "metadata": {},
   "outputs": [],
   "source": [
    "def get_list_of_shadowed_part_of_path(list_of_paths):\n",
    "    calc_values_list = []\n",
    "    for onePath in list_of_paths:\n",
    "        calc_values_list.append(get_shadowed_part_of_path(onePath))\n",
    "    return calc_values_list\n",
    "\n",
    "def get_list_of_total_path_shadowed_length(list_of_paths):\n",
    "    calc_values_list = []\n",
    "    for onePath in list_of_paths:\n",
    "        calc_values_list.append(get_total_path_shadowed_length(onePath))\n",
    "    return calc_values_list\n",
    "\n",
    "def get_list_of_total_path_length(list_of_paths):\n",
    "    calc_values_list = []\n",
    "    for onePath in list_of_paths:\n",
    "        calc_values_list.append(get_total_path_length(onePath))\n",
    "    return calc_values_list"
   ]
  },
  {
   "cell_type": "code",
   "execution_count": 59,
   "metadata": {},
   "outputs": [],
   "source": [
    "def get_mean(list):\n",
    "    mean = statistics.mean(list) \n",
    "    return mean\n",
    "\n",
    "def get_median(list):    \n",
    "    median = statistics.median(list)\n",
    "    return median\n",
    "\n",
    "def get_stdev(list):\n",
    "    stdev = statistics.stdev(list)\n",
    "    return stdev"
   ]
  },
  {
   "cell_type": "code",
   "execution_count": 60,
   "metadata": {},
   "outputs": [],
   "source": [
    "def create_df(data, df_columns):\n",
    "    df = pd.DataFrame(data, columns = df_columns)\n",
    "    return df\n",
    "    "
   ]
  },
  {
   "cell_type": "code",
   "execution_count": 64,
   "metadata": {},
   "outputs": [
    {
     "name": "stdout",
     "output_type": "stream",
     "text": [
      "[23759, 421, 11131, 4449, 23434, 13078, 19758, 15610, 25329, 11625, 16645, 25265, 20633, 12200, 13112, 2411, 9170, 9051, 3130, 171, 17072, 1117, 9123, 12363, 20753, 5342, 1481, 13462, 20049, 16327, 14105, 22912, 22001, 22531, 8546, 25203, 21724, 20713, 1306, 10134, 332, 20860, 21521, 16154, 2721, 11095, 9678, 10413, 17278, 22345, 12251, 18216, 19830, 11459, 20158, 19539, 3150, 9372, 25210, 3200, 10792, 5540, 1173, 18630, 1288, 6686, 4542, 24882, 18243, 14526, 18302, 3299, 5172, 4446, 4554, 10910, 13868, 12001, 15692, 16172]\n",
      "[12333, 1864, 9415, 24600, 8819, 21754, 11605, 22279, 7781, 12872, 8717, 24371, 15626, 23859, 21628, 23382, 4115, 8913, 12291, 13736, 8500, 7074, 18138, 22729, 808, 18152, 18605, 20399, 14868, 7064, 16202, 3094, 2801, 15564, 9617, 19431, 20323, 12860, 16802, 20549, 23241, 13337, 21300, 11553, 22997, 21405, 19351, 24270, 7196, 19978, 12108, 8814, 10860, 16954, 12169, 2749, 12443, 14277, 5151, 25517, 924, 14784, 9210, 417, 6276, 15548, 15432, 15147, 9107, 14893, 16691, 8098, 24518, 21241, 4988, 17553, 17865, 20808, 10005, 2781]\n"
     ]
    }
   ],
   "source": [
    "src = random.randint(1, 25648) #inclucive\n",
    "dest = random.randint(1, 25648)\n",
    "\n",
    "srcList = []\n",
    "destList =[]\n",
    "\n",
    "for oneIter in range(3):\n",
    "    src = random.randint(1, 25648) #inclucive\n",
    "    dest = random.randint(1, 25648)\n",
    "    srcList.append(src)\n",
    "    destList.append(dest)\n"
   ]
  },
  {
   "cell_type": "code",
   "execution_count": 182,
   "metadata": {},
   "outputs": [],
   "source": [
    "\n",
    "def getRatio(list_total_length_shortest, list_total_length_optimal):\n",
    "    ratioList =[]\n",
    "    for i in range(5):\n",
    "         ratio = list_total_length_shortest[i]/list_total_length_optimal[i]\n",
    "         ratioList.append(ratio)\n",
    "    return ratioList"
   ]
  },
  {
   "cell_type": "code",
   "execution_count": 173,
   "metadata": {},
   "outputs": [
    {
     "ename": "IndexError",
     "evalue": "list index out of range",
     "output_type": "error",
     "traceback": [
      "\u001b[0;31m---------------------------------------------------------------------------\u001b[0m",
      "\u001b[0;31mIndexError\u001b[0m                                Traceback (most recent call last)",
      "Cell \u001b[0;32mIn [173], line 60\u001b[0m\n\u001b[1;32m     55\u001b[0m stdev_total_length_cost2 \u001b[39m=\u001b[39m get_stdev(list_total_length_cost2)\n\u001b[1;32m     57\u001b[0m \u001b[39m#ratio\u001b[39;00m\n\u001b[1;32m     58\u001b[0m \u001b[39m#shortest path length/cost1/2 path length\u001b[39;00m\n\u001b[1;32m     59\u001b[0m \u001b[39m#How much longer is shadow path length compared to the shortest path length\u001b[39;00m\n\u001b[0;32m---> 60\u001b[0m ratio_list_cost1 \u001b[39m=\u001b[39m getRatio(list_total_length_shortest, list_total_length_cost1)\n\u001b[1;32m     61\u001b[0m mean_ratio_cost1 \u001b[39m=\u001b[39m get_mean(ratio_list_cost1)\n\u001b[1;32m     62\u001b[0m ratio_list_cost2 \u001b[39m=\u001b[39m getRatio(list_total_length_shortest, list_total_length_cost2)\n",
      "Cell \u001b[0;32mIn [71], line 4\u001b[0m, in \u001b[0;36mgetRatio\u001b[0;34m(list_total_length_shortest, list_total_length_optimal)\u001b[0m\n\u001b[1;32m      2\u001b[0m ratioList \u001b[39m=\u001b[39m[]\n\u001b[1;32m      3\u001b[0m \u001b[39mfor\u001b[39;00m i \u001b[39min\u001b[39;00m \u001b[39mrange\u001b[39m(\u001b[39m80\u001b[39m):\n\u001b[0;32m----> 4\u001b[0m      ratio \u001b[39m=\u001b[39m list_total_length_shortest[i]\u001b[39m/\u001b[39mlist_total_length_optimal[i]\n\u001b[1;32m      5\u001b[0m      ratioList\u001b[39m.\u001b[39mappend(ratio)\n\u001b[1;32m      6\u001b[0m \u001b[39mreturn\u001b[39;00m ratioList\n",
      "\u001b[0;31mIndexError\u001b[0m: list index out of range"
     ]
    }
   ],
   "source": [
    "\n",
    "\n",
    "list_of_paths_short = get_80_paths(srcList, destList, \"full_length\")\n",
    "list_shadow_part_shortest = get_list_of_shadowed_part_of_path(list_of_paths_short)\n",
    "list_shadow_length_shortest = get_list_of_total_path_shadowed_length(list_of_paths_short)\n",
    "list_total_length_shortest = get_list_of_total_path_length(list_of_paths_short)\n",
    "#Mean\n",
    "mean_part_shortest = get_mean(list_shadow_part_shortest)\n",
    "mean_shadow_length_shortest = get_mean(list_shadow_length_shortest)\n",
    "mean_total_length_shortest = get_mean(list_total_length_shortest)\n",
    "#Median\n",
    "median_shortest = get_median(list_shadow_part_shortest)\n",
    "median_shadow_length_shortest = get_median(list_shadow_length_shortest)\n",
    "median_total_length_shortest = get_median(list_total_length_shortest)\n",
    "#Stdev\n",
    "stdev_part_shortest = get_stdev(list_shadow_part_shortest)\n",
    "stdev_shadow_length_shortest = get_stdev(list_shadow_length_shortest)\n",
    "stdev_total_length_shortest = get_stdev(list_total_length_shortest)\n",
    "\n",
    "\n",
    "###Cost_function_1\n",
    "list_of_paths_cost1 = get_80_paths(srcList, destList, weight_function_1)\n",
    "list_shadow_part_cost1 = get_list_of_shadowed_part_of_path(list_of_paths_cost1)\n",
    "list_shadow_length_cost1 = get_list_of_total_path_shadowed_length(list_of_paths_cost1)\n",
    "list_total_length_cost1 = get_list_of_total_path_length(list_of_paths_cost1)\n",
    "#Mean\n",
    "mean_shadow_part_cost1 = get_mean(list_shadow_part_cost1)\n",
    "mean_shadow_length_cost1 = get_mean(list_shadow_length_cost1)\n",
    "mean_total_length_cost1 = get_mean(list_total_length_cost1)\n",
    "#Median\n",
    "median_shadow_part_cost1 = get_median(list_shadow_part_cost1)\n",
    "median_shadow_length_cost1 = get_median(list_shadow_length_cost1)\n",
    "median_cost1 = get_median(list_shadow_part_cost1)\n",
    "#Stdev\n",
    "stdev_shadow_part_cost1 = get_stdev(list_shadow_part_cost1)\n",
    "stdev_shadow_length_cost1 = get_stdev(list_shadow_length_cost1)\n",
    "stdev_total_length_cost1 = get_stdev(list_total_length_cost1)\n",
    "\n",
    "\n",
    "###Cost_function_2\n",
    "list_of_paths_cost2 = get_80_paths(srcList, destList, weight_function_2)\n",
    "list_shadow_part_cost2 = get_list_of_shadowed_part_of_path(list_of_paths_cost2)\n",
    "list_shadow_length_cost2 = get_list_of_total_path_shadowed_length(list_of_paths_cost2)\n",
    "list_total_length_cost2 = get_list_of_total_path_length(list_of_paths_cost2)\n",
    "#mean\n",
    "mean_shadow_part_cost2 = get_mean(list_shadow_part_cost2)\n",
    "mean_shadow_length_cost2 = get_mean(list_shadow_length_cost2)\n",
    "mean_total_length_cost2 = get_mean(list_total_length_cost2)\n",
    "#median\n",
    "median_part_cost2 = get_median(list_shadow_part_cost2)\n",
    "median_shadow_length_cost2 = get_median(list_shadow_length_cost2)\n",
    "median_total_length_cost2 = get_median(list_total_length_cost2)\n",
    "\n",
    "#stdev\n",
    "stdev_part_cost2 = get_stdev(list_shadow_part_cost2)\n",
    "stdev_shadow_length_cost2 = get_stdev(list_shadow_length_cost2)\n",
    "stdev_total_length_cost2 = get_stdev(list_total_length_cost2)\n",
    "\n",
    "#ratio\n",
    "#shortest path length/cost1/2 path length\n",
    "#How much longer is shadow path length compared to the shortest path length\n",
    "ratio_list_cost1 = getRatio(list_total_length_shortest, list_total_length_cost1)\n",
    "mean_ratio_cost1 = get_mean(ratio_list_cost1)\n",
    "ratio_list_cost2 = getRatio(list_total_length_shortest, list_total_length_cost2)\n",
    "mean_ratio_cost2 = get_mean(ratio_list_cost2)\n",
    "\n",
    "\n",
    "\n",
    "data = [['Shadow part (%)', mean_part_shortest*100, mean_shadow_part_cost1*100, mean_shadow_part_cost2*100], \n",
    "         ['Shadow length (m)', mean_shadow_length_shortest, mean_shadow_length_cost1,mean_shadow_length_cost2], \n",
    "         ['Full length (m)', mean_total_length_shortest, mean_total_length_cost1, mean_total_length_cost2],\n",
    "         ['Ratio shortest/optimal (%)', \"-\", mean_ratio_cost1, mean_ratio_cost2]]\n",
    "\n",
    "df_columns = ['Mean', 'Shortest Path', 'Optimal Shadow Path: cost_function_1','Optimal Shadow Path: cost_function_2']\n",
    "\n",
    "dfMean=create_df(data, df_columns)\n"
   ]
  },
  {
   "cell_type": "code",
   "execution_count": 81,
   "metadata": {},
   "outputs": [],
   "source": [
    "#Make CSV with \n",
    "#1 column with shortest path, one with shadow path\n",
    "\n",
    "data = [[list_total_length_shortest, list_total_length_cost1]]\n",
    "\n",
    "dfData = {'Shortest Path': pd.Series(list_total_length_shortest),\n",
    "              'Optimal Shadow Path' : pd.Series(list_total_length_cost1)}\n",
    "\n",
    "dfPaths=pd.DataFrame(dfData)\n",
    "\n",
    "dfPaths.to_csv(\"path_comparison.csv\", index = False)"
   ]
  },
  {
   "cell_type": "code",
   "execution_count": 82,
   "metadata": {},
   "outputs": [
    {
     "data": {
      "text/html": [
       "<div>\n",
       "<style scoped>\n",
       "    .dataframe tbody tr th:only-of-type {\n",
       "        vertical-align: middle;\n",
       "    }\n",
       "\n",
       "    .dataframe tbody tr th {\n",
       "        vertical-align: top;\n",
       "    }\n",
       "\n",
       "    .dataframe thead th {\n",
       "        text-align: right;\n",
       "    }\n",
       "</style>\n",
       "<table border=\"1\" class=\"dataframe\">\n",
       "  <thead>\n",
       "    <tr style=\"text-align: right;\">\n",
       "      <th></th>\n",
       "      <th>Shortest Path</th>\n",
       "      <th>Optimal Shadow Path</th>\n",
       "    </tr>\n",
       "  </thead>\n",
       "  <tbody>\n",
       "    <tr>\n",
       "      <th>0</th>\n",
       "      <td>10658.005635</td>\n",
       "      <td>15059.077107</td>\n",
       "    </tr>\n",
       "    <tr>\n",
       "      <th>1</th>\n",
       "      <td>9309.035910</td>\n",
       "      <td>12622.240546</td>\n",
       "    </tr>\n",
       "    <tr>\n",
       "      <th>2</th>\n",
       "      <td>19542.870758</td>\n",
       "      <td>21803.966318</td>\n",
       "    </tr>\n",
       "    <tr>\n",
       "      <th>3</th>\n",
       "      <td>6044.435014</td>\n",
       "      <td>6921.931229</td>\n",
       "    </tr>\n",
       "    <tr>\n",
       "      <th>4</th>\n",
       "      <td>7072.767177</td>\n",
       "      <td>11299.140324</td>\n",
       "    </tr>\n",
       "    <tr>\n",
       "      <th>...</th>\n",
       "      <td>...</td>\n",
       "      <td>...</td>\n",
       "    </tr>\n",
       "    <tr>\n",
       "      <th>75</th>\n",
       "      <td>4881.765147</td>\n",
       "      <td>7113.145372</td>\n",
       "    </tr>\n",
       "    <tr>\n",
       "      <th>76</th>\n",
       "      <td>1070.275191</td>\n",
       "      <td>1111.171430</td>\n",
       "    </tr>\n",
       "    <tr>\n",
       "      <th>77</th>\n",
       "      <td>20376.019465</td>\n",
       "      <td>23976.938955</td>\n",
       "    </tr>\n",
       "    <tr>\n",
       "      <th>78</th>\n",
       "      <td>11776.812259</td>\n",
       "      <td>14788.793256</td>\n",
       "    </tr>\n",
       "    <tr>\n",
       "      <th>79</th>\n",
       "      <td>11761.723305</td>\n",
       "      <td>13431.935598</td>\n",
       "    </tr>\n",
       "  </tbody>\n",
       "</table>\n",
       "<p>80 rows × 2 columns</p>\n",
       "</div>"
      ],
      "text/plain": [
       "    Shortest Path  Optimal Shadow Path\n",
       "0    10658.005635         15059.077107\n",
       "1     9309.035910         12622.240546\n",
       "2    19542.870758         21803.966318\n",
       "3     6044.435014          6921.931229\n",
       "4     7072.767177         11299.140324\n",
       "..            ...                  ...\n",
       "75    4881.765147          7113.145372\n",
       "76    1070.275191          1111.171430\n",
       "77   20376.019465         23976.938955\n",
       "78   11776.812259         14788.793256\n",
       "79   11761.723305         13431.935598\n",
       "\n",
       "[80 rows x 2 columns]"
      ]
     },
     "execution_count": 82,
     "metadata": {},
     "output_type": "execute_result"
    }
   ],
   "source": [
    "dfPaths"
   ]
  },
  {
   "cell_type": "code",
   "execution_count": 76,
   "metadata": {},
   "outputs": [
    {
     "data": {
      "text/html": [
       "<div>\n",
       "<style scoped>\n",
       "    .dataframe tbody tr th:only-of-type {\n",
       "        vertical-align: middle;\n",
       "    }\n",
       "\n",
       "    .dataframe tbody tr th {\n",
       "        vertical-align: top;\n",
       "    }\n",
       "\n",
       "    .dataframe thead th {\n",
       "        text-align: right;\n",
       "    }\n",
       "</style>\n",
       "<table border=\"1\" class=\"dataframe\">\n",
       "  <thead>\n",
       "    <tr style=\"text-align: right;\">\n",
       "      <th></th>\n",
       "      <th>Mean</th>\n",
       "      <th>Shortest Path</th>\n",
       "      <th>optimal shadow path: cost_function_1</th>\n",
       "      <th>optimal shadow path: cost_function_2</th>\n",
       "    </tr>\n",
       "  </thead>\n",
       "  <tbody>\n",
       "    <tr>\n",
       "      <th>0</th>\n",
       "      <td>Shadow part (%)</td>\n",
       "      <td>9.956561</td>\n",
       "      <td>24.416956</td>\n",
       "      <td>17.285240</td>\n",
       "    </tr>\n",
       "    <tr>\n",
       "      <th>1</th>\n",
       "      <td>Shadow length (m)</td>\n",
       "      <td>978.330676</td>\n",
       "      <td>3062.845082</td>\n",
       "      <td>1818.281802</td>\n",
       "    </tr>\n",
       "    <tr>\n",
       "      <th>2</th>\n",
       "      <td>Full length (m)</td>\n",
       "      <td>10254.031375</td>\n",
       "      <td>12507.313520</td>\n",
       "      <td>10536.963228</td>\n",
       "    </tr>\n",
       "    <tr>\n",
       "      <th>3</th>\n",
       "      <td>Ratio shortest/optimal (%)</td>\n",
       "      <td>-</td>\n",
       "      <td>0.823975</td>\n",
       "      <td>0.974689</td>\n",
       "    </tr>\n",
       "  </tbody>\n",
       "</table>\n",
       "</div>"
      ],
      "text/plain": [
       "                         Mean Shortest Path  \\\n",
       "0             Shadow part (%)      9.956561   \n",
       "1           Shadow length (m)    978.330676   \n",
       "2             Full length (m)  10254.031375   \n",
       "3  Ratio shortest/optimal (%)             -   \n",
       "\n",
       "   optimal shadow path: cost_function_1  optimal shadow path: cost_function_2  \n",
       "0                             24.416956                             17.285240  \n",
       "1                           3062.845082                           1818.281802  \n",
       "2                          12507.313520                          10536.963228  \n",
       "3                              0.823975                              0.974689  "
      ]
     },
     "execution_count": 76,
     "metadata": {},
     "output_type": "execute_result"
    }
   ],
   "source": [
    "dfMean"
   ]
  },
  {
   "cell_type": "code",
   "execution_count": 158,
   "metadata": {},
   "outputs": [],
   "source": [
    "def shortestPathsUnderXkm(y,x):\n",
    "    srcList = []\n",
    "    destList =[]\n",
    "\n",
    "\n",
    "    while len(srcList) < 5:\n",
    "      \n",
    "        try:\n",
    "            src = random.randint(1, 25648) #inclucive\n",
    "            dest = random.randint(1, 25648)\n",
    "            path = nx.shortest_path(G, src, dest, weight='full_length')\n",
    "            path_length = get_total_path_length(path)\n",
    "            # print(path_length)\n",
    "            if y < path_length <= x:\n",
    "                # for i in range(5):\n",
    "                #     print(\"MATCH!!\")\n",
    "                #     i += 1\n",
    "                # print(path_length)\n",
    "                # print(src)\n",
    "                # print(dest)\n",
    "                srcList.append(src)\n",
    "                destList.append(dest)\n",
    "        except nx.NetworkXNoPath:\n",
    "            print(\"No path found :(\")\n",
    "            \n",
    "    return srcList, destList\n"
   ]
  },
  {
   "cell_type": "code",
   "execution_count": 159,
   "metadata": {},
   "outputs": [
    {
     "name": "stdout",
     "output_type": "stream",
     "text": [
      "No path found :(\n",
      "No path found :(\n",
      "No path found :(\n"
     ]
    }
   ],
   "source": [
    "#There is not much difference between shortest paths and optimal paths if they are long\n",
    "# We only want to consider paths that are <=1km, 2km, 3km... \n",
    "# 5 paths for each km --> take the mean \n",
    "#First find shortest paths which are <=2km\n",
    "#Save source and destination and compute there paths with cost functions\n",
    "\n",
    "srcList1km, destList1km = shortestPathsUnderXkm(0, 1000)"
   ]
  },
  {
   "cell_type": "code",
   "execution_count": 223,
   "metadata": {},
   "outputs": [
    {
     "name": "stdout",
     "output_type": "stream",
     "text": [
      "No path found :(\n"
     ]
    }
   ],
   "source": [
    "srcList2km, destList2km = shortestPathsUnderXkm(1001, 2000)"
   ]
  },
  {
   "cell_type": "code",
   "execution_count": 217,
   "metadata": {},
   "outputs": [],
   "source": [
    "srcList3km, destList3km = shortestPathsUnderXkm(2001, 3000)"
   ]
  },
  {
   "cell_type": "code",
   "execution_count": 162,
   "metadata": {},
   "outputs": [
    {
     "name": "stdout",
     "output_type": "stream",
     "text": [
      "[19478, 10773, 2928, 19831, 14093]\n"
     ]
    }
   ],
   "source": [
    "print(srcList1km)"
   ]
  },
  {
   "cell_type": "code",
   "execution_count": 218,
   "metadata": {},
   "outputs": [],
   "source": [
    "srcList4km, destList4km = shortestPathsUnderXkm(3001, 4000)\n"
   ]
  },
  {
   "cell_type": "code",
   "execution_count": 219,
   "metadata": {},
   "outputs": [],
   "source": [
    "srcList5km, destList5km = shortestPathsUnderXkm(4001, 5000)\n"
   ]
  },
  {
   "cell_type": "code",
   "execution_count": 220,
   "metadata": {},
   "outputs": [],
   "source": [
    "srcList6km, destList6km = shortestPathsUnderXkm(5001, 6000)\n"
   ]
  },
  {
   "cell_type": "code",
   "execution_count": 221,
   "metadata": {},
   "outputs": [],
   "source": [
    "srcList7km, destList7km = shortestPathsUnderXkm(6001, 7000)\n"
   ]
  },
  {
   "cell_type": "code",
   "execution_count": 222,
   "metadata": {},
   "outputs": [],
   "source": [
    "srcList8km, destList8km = shortestPathsUnderXkm(7001, 8000)"
   ]
  },
  {
   "cell_type": "code",
   "execution_count": 224,
   "metadata": {},
   "outputs": [],
   "source": [
    "#Get optimal paths\n",
    "#1km_\n",
    "list_of_1km_paths_shortest = get_80_paths(srcList1km, destList1km, \"full_length\")\n",
    "list_of_1km_paths_cost1 = get_80_paths(srcList1km, destList1km, weight_function_1)\n",
    "list_of_1km_paths_cost2 = get_80_paths(srcList1km, destList1km, weight_function_2)\n",
    "#2km_\n",
    "list_of_2km_paths_shortest = get_80_paths(srcList2km, destList2km, \"full_length\")\n",
    "list_of_2km_paths_cost1 = get_80_paths(srcList2km, destList2km, weight_function_1)\n",
    "list_of_2km_paths_cost2 = get_80_paths(srcList2km, destList2km, weight_function_2)\n",
    "\n",
    "#3km_\n",
    "list_of_3km_paths_shortest = get_80_paths(srcList3km, destList3km, \"full_length\")\n",
    "list_of_3km_paths_cost1 = get_80_paths(srcList3km, destList3km, weight_function_1)\n",
    "list_of_3km_paths_cost2 = get_80_paths(srcList3km, destList3km, weight_function_2)\n",
    "#4km_\n",
    "list_of_4km_paths_shortest = get_80_paths(srcList4km, destList4km, \"full_length\")\n",
    "list_of_4km_paths_cost1 = get_80_paths(srcList4km, destList4km, weight_function_1)\n",
    "list_of_4km_paths_cost2 = get_80_paths(srcList4km, destList4km, weight_function_2)\n",
    "#5km_\n",
    "list_of_5km_paths_shortest = get_80_paths(srcList5km, destList5km, \"full_length\")\n",
    "list_of_5km_paths_cost1 = get_80_paths(srcList5km, destList5km, weight_function_1)\n",
    "list_of_5km_paths_cost2 = get_80_paths(srcList5km, destList5km, weight_function_2)\n",
    "#6km_\n",
    "list_of_6km_paths_shortest = get_80_paths(srcList6km, destList6km, \"full_length\")\n",
    "list_of_6km_paths_cost1 = get_80_paths(srcList6km, destList6km, weight_function_1)\n",
    "list_of_6km_paths_cost2 = get_80_paths(srcList6km, destList6km, weight_function_2)\n",
    "#7km_\n",
    "list_of_7km_paths_shortest = get_80_paths(srcList7km, destList7km, \"full_length\")\n",
    "list_of_7km_paths_cost1 = get_80_paths(srcList7km, destList7km, weight_function_1)\n",
    "list_of_7km_paths_cost2 = get_80_paths(srcList7km, destList7km, weight_function_2)\n",
    "#8km_\n",
    "list_of_8km_paths_shortest = get_80_paths(srcList8km, destList8km, \"full_length\")\n",
    "list_of_8km_paths_cost1 = get_80_paths(srcList8km, destList8km, weight_function_1)\n",
    "list_of_8km_paths_cost2 = get_80_paths(srcList8km, destList8km, weight_function_2)\n",
    "\n",
    "\n",
    "\n"
   ]
  },
  {
   "cell_type": "code",
   "execution_count": 225,
   "metadata": {},
   "outputs": [],
   "source": [
    "# If the path is 2km\n",
    "#How much shadow (%)\n",
    "def calculateStats(list_of_Xkm_paths_shortest,list_of_Xkm_paths_cost1, list_of_Xkm_paths_cost2, explanation):\n",
    "    list_shadow_Xkm_part_short = get_list_of_shadowed_part_of_path(list_of_Xkm_paths_shortest)\n",
    "    mean_shadow_Xkm_part_short = get_mean(list_shadow_Xkm_part_short)\n",
    "\n",
    "    list_shadow_Xkm_part_cost1 = get_list_of_shadowed_part_of_path(list_of_Xkm_paths_cost1)\n",
    "    mean_shadow_Xkm_part_cost1 = get_mean(list_shadow_Xkm_part_cost1)\n",
    "\n",
    "    list_shadow_Xkm_part_cost2 = get_list_of_shadowed_part_of_path(list_of_Xkm_paths_cost2)\n",
    "    mean_shadow_Xkm_part_cost2 = get_mean(list_shadow_Xkm_part_cost2)\n",
    "\n",
    "\n",
    "    #Shadow in m (m)\n",
    "    list_shadow_Xkm_length_short = get_list_of_total_path_shadowed_length(list_of_Xkm_paths_shortest)\n",
    "    mean_shadow_Xkm_length_short = get_mean(list_shadow_Xkm_length_short)\n",
    "\n",
    "    list_shadow_Xkm_length_cost1 = get_list_of_total_path_shadowed_length(list_of_Xkm_paths_cost1)\n",
    "    mean_shadow_Xkm_length_cost1 = get_mean(list_shadow_Xkm_length_cost1)\n",
    "\n",
    "    list_shadow_Xkm_length_cost2 = get_list_of_total_path_shadowed_length(list_of_Xkm_paths_cost2)\n",
    "    mean_shadow_Xkm_length_cost2 = get_mean(list_shadow_Xkm_length_cost2)\n",
    "\n",
    "    #Length of path (m)\n",
    "    list_total_Xkm_length_short = get_list_of_total_path_length(list_of_Xkm_paths_shortest)\n",
    "    mean_total_Xkm_length_short = get_mean(list_total_Xkm_length_short)\n",
    "\n",
    "    list_total_Xkm_length_cost1 = get_list_of_total_path_length(list_of_Xkm_paths_cost1)\n",
    "    mean_total_Xkm_length_cost1 = get_mean(list_total_Xkm_length_cost1)\n",
    "\n",
    "    list_total_Xkm_length_cost2 = get_list_of_total_path_length(list_of_Xkm_paths_cost2)\n",
    "    mean_total_Xkm_length_cost2 = get_mean(list_total_Xkm_length_cost2)\n",
    "\n",
    "    #ratio\n",
    "    ratio_Xkm_list_cost1 = getRatio(list_total_Xkm_length_short, list_total_Xkm_length_cost1)\n",
    "    mean_Xkm_ratio_cost1 = get_mean(ratio_Xkm_list_cost1)\n",
    "    ratio_Xkm_list_cost2 = getRatio(list_total_Xkm_length_short, list_total_Xkm_length_cost2)\n",
    "    mean_Xkm_ratio_cost2 = get_mean(ratio_Xkm_list_cost2)\n",
    "\n",
    "    #Means\n",
    "    data = [['Shadow part (%)', mean_shadow_Xkm_part_short*100, mean_shadow_Xkm_part_cost1*100, mean_shadow_Xkm_part_cost2*100], \n",
    "         ['Shadow length (m)', mean_shadow_Xkm_length_short, mean_shadow_Xkm_length_cost1, mean_shadow_Xkm_length_cost2], \n",
    "         ['Full length (m)', mean_total_Xkm_length_short, mean_total_Xkm_length_cost1, mean_total_Xkm_length_cost2],\n",
    "         ['Ratio shortest/optimal (%)', \"-\", mean_Xkm_ratio_cost1, mean_Xkm_ratio_cost2]]\n",
    "\n",
    "    df_columns = [explanation, 'Shortest Path', 'Optimal Shadow Path: cost_function_1','Optimal Shadow Path: cost_function_2']\n",
    "\n",
    "    dfStats=create_df(data, df_columns)\n",
    "\n",
    "    return dfStats"
   ]
  },
  {
   "cell_type": "code",
   "execution_count": 226,
   "metadata": {},
   "outputs": [],
   "source": [
    "returnDfStatsreturnDfStats1 = calculateStats(list_of_1km_paths_shortest, list_of_1km_paths_cost1, list_of_1km_paths_cost2, \"Mean: 0-1km Shortest path distance\")"
   ]
  },
  {
   "cell_type": "code",
   "execution_count": 227,
   "metadata": {},
   "outputs": [
    {
     "data": {
      "text/html": [
       "<div>\n",
       "<style scoped>\n",
       "    .dataframe tbody tr th:only-of-type {\n",
       "        vertical-align: middle;\n",
       "    }\n",
       "\n",
       "    .dataframe tbody tr th {\n",
       "        vertical-align: top;\n",
       "    }\n",
       "\n",
       "    .dataframe thead th {\n",
       "        text-align: right;\n",
       "    }\n",
       "</style>\n",
       "<table border=\"1\" class=\"dataframe\">\n",
       "  <thead>\n",
       "    <tr style=\"text-align: right;\">\n",
       "      <th></th>\n",
       "      <th>Mean: 0-1km Shortest path distance</th>\n",
       "      <th>Shortest Path</th>\n",
       "      <th>Optimal Shadow Path: cost_function_1</th>\n",
       "      <th>Optimal Shadow Path: cost_function_2</th>\n",
       "    </tr>\n",
       "  </thead>\n",
       "  <tbody>\n",
       "    <tr>\n",
       "      <th>0</th>\n",
       "      <td>Shadow part (%)</td>\n",
       "      <td>10.818179</td>\n",
       "      <td>15.370432</td>\n",
       "      <td>13.134202</td>\n",
       "    </tr>\n",
       "    <tr>\n",
       "      <th>1</th>\n",
       "      <td>Shadow length (m)</td>\n",
       "      <td>58.307852</td>\n",
       "      <td>101.926274</td>\n",
       "      <td>80.741935</td>\n",
       "    </tr>\n",
       "    <tr>\n",
       "      <th>2</th>\n",
       "      <td>Full length (m)</td>\n",
       "      <td>547.514272</td>\n",
       "      <td>575.495594</td>\n",
       "      <td>547.724172</td>\n",
       "    </tr>\n",
       "    <tr>\n",
       "      <th>3</th>\n",
       "      <td>Ratio shortest/optimal (%)</td>\n",
       "      <td>-</td>\n",
       "      <td>0.956882</td>\n",
       "      <td>0.999783</td>\n",
       "    </tr>\n",
       "  </tbody>\n",
       "</table>\n",
       "</div>"
      ],
      "text/plain": [
       "  Mean: 0-1km Shortest path distance Shortest Path  \\\n",
       "0                    Shadow part (%)     10.818179   \n",
       "1                  Shadow length (m)     58.307852   \n",
       "2                    Full length (m)    547.514272   \n",
       "3         Ratio shortest/optimal (%)             -   \n",
       "\n",
       "   Optimal Shadow Path: cost_function_1  Optimal Shadow Path: cost_function_2  \n",
       "0                             15.370432                             13.134202  \n",
       "1                            101.926274                             80.741935  \n",
       "2                            575.495594                            547.724172  \n",
       "3                              0.956882                              0.999783  "
      ]
     },
     "execution_count": 227,
     "metadata": {},
     "output_type": "execute_result"
    }
   ],
   "source": [
    "returnDfStats1"
   ]
  },
  {
   "cell_type": "code",
   "execution_count": 195,
   "metadata": {},
   "outputs": [],
   "source": [
    "returnDfStats = calculateStats(list_of_2km_paths_shortest, list_of_2km_paths_cost1, list_of_2km_paths_cost2, \"Mean: 2km Shortest path distance\")"
   ]
  },
  {
   "cell_type": "code",
   "execution_count": 196,
   "metadata": {},
   "outputs": [
    {
     "data": {
      "text/html": [
       "<div>\n",
       "<style scoped>\n",
       "    .dataframe tbody tr th:only-of-type {\n",
       "        vertical-align: middle;\n",
       "    }\n",
       "\n",
       "    .dataframe tbody tr th {\n",
       "        vertical-align: top;\n",
       "    }\n",
       "\n",
       "    .dataframe thead th {\n",
       "        text-align: right;\n",
       "    }\n",
       "</style>\n",
       "<table border=\"1\" class=\"dataframe\">\n",
       "  <thead>\n",
       "    <tr style=\"text-align: right;\">\n",
       "      <th></th>\n",
       "      <th>Mean: 2km Shortest path distance</th>\n",
       "      <th>Shortest Path</th>\n",
       "      <th>Optimal Shadow Path: cost_function_1</th>\n",
       "      <th>Optimal Shadow Path: cost_function_2</th>\n",
       "    </tr>\n",
       "  </thead>\n",
       "  <tbody>\n",
       "    <tr>\n",
       "      <th>0</th>\n",
       "      <td>Shadow part (%)</td>\n",
       "      <td>23.644759</td>\n",
       "      <td>42.218109</td>\n",
       "      <td>27.836660</td>\n",
       "    </tr>\n",
       "    <tr>\n",
       "      <th>1</th>\n",
       "      <td>Shadow length (m)</td>\n",
       "      <td>396.094944</td>\n",
       "      <td>992.469889</td>\n",
       "      <td>465.592314</td>\n",
       "    </tr>\n",
       "    <tr>\n",
       "      <th>2</th>\n",
       "      <td>Full length (m)</td>\n",
       "      <td>1745.310899</td>\n",
       "      <td>2291.686282</td>\n",
       "      <td>1753.409282</td>\n",
       "    </tr>\n",
       "    <tr>\n",
       "      <th>3</th>\n",
       "      <td>Ratio shortest/optimal (%)</td>\n",
       "      <td>-</td>\n",
       "      <td>0.802115</td>\n",
       "      <td>0.994996</td>\n",
       "    </tr>\n",
       "  </tbody>\n",
       "</table>\n",
       "</div>"
      ],
      "text/plain": [
       "  Mean: 2km Shortest path distance Shortest Path  \\\n",
       "0                  Shadow part (%)     23.644759   \n",
       "1                Shadow length (m)    396.094944   \n",
       "2                  Full length (m)   1745.310899   \n",
       "3       Ratio shortest/optimal (%)             -   \n",
       "\n",
       "   Optimal Shadow Path: cost_function_1  Optimal Shadow Path: cost_function_2  \n",
       "0                             42.218109                             27.836660  \n",
       "1                            992.469889                            465.592314  \n",
       "2                           2291.686282                           1753.409282  \n",
       "3                              0.802115                              0.994996  "
      ]
     },
     "execution_count": 196,
     "metadata": {},
     "output_type": "execute_result"
    }
   ],
   "source": [
    "returnDfStats"
   ]
  },
  {
   "cell_type": "code",
   "execution_count": 228,
   "metadata": {},
   "outputs": [],
   "source": [
    "returnDfStats3km = calculateStats(list_of_3km_paths_shortest, list_of_3km_paths_cost1, list_of_3km_paths_cost2, \"Mean: 3km Shortest path distance\")"
   ]
  },
  {
   "cell_type": "code",
   "execution_count": 229,
   "metadata": {},
   "outputs": [
    {
     "data": {
      "text/html": [
       "<div>\n",
       "<style scoped>\n",
       "    .dataframe tbody tr th:only-of-type {\n",
       "        vertical-align: middle;\n",
       "    }\n",
       "\n",
       "    .dataframe tbody tr th {\n",
       "        vertical-align: top;\n",
       "    }\n",
       "\n",
       "    .dataframe thead th {\n",
       "        text-align: right;\n",
       "    }\n",
       "</style>\n",
       "<table border=\"1\" class=\"dataframe\">\n",
       "  <thead>\n",
       "    <tr style=\"text-align: right;\">\n",
       "      <th></th>\n",
       "      <th>Mean: 3km Shortest path distance</th>\n",
       "      <th>Shortest Path</th>\n",
       "      <th>Optimal Shadow Path: cost_function_1</th>\n",
       "      <th>Optimal Shadow Path: cost_function_2</th>\n",
       "    </tr>\n",
       "  </thead>\n",
       "  <tbody>\n",
       "    <tr>\n",
       "      <th>0</th>\n",
       "      <td>Shadow part (%)</td>\n",
       "      <td>5.225535</td>\n",
       "      <td>18.044356</td>\n",
       "      <td>7.143512</td>\n",
       "    </tr>\n",
       "    <tr>\n",
       "      <th>1</th>\n",
       "      <td>Shadow length (m)</td>\n",
       "      <td>124.979047</td>\n",
       "      <td>621.457614</td>\n",
       "      <td>178.922996</td>\n",
       "    </tr>\n",
       "    <tr>\n",
       "      <th>2</th>\n",
       "      <td>Full length (m)</td>\n",
       "      <td>2447.563223</td>\n",
       "      <td>3240.987520</td>\n",
       "      <td>2472.471876</td>\n",
       "    </tr>\n",
       "    <tr>\n",
       "      <th>3</th>\n",
       "      <td>Ratio shortest/optimal (%)</td>\n",
       "      <td>-</td>\n",
       "      <td>0.778846</td>\n",
       "      <td>0.990763</td>\n",
       "    </tr>\n",
       "  </tbody>\n",
       "</table>\n",
       "</div>"
      ],
      "text/plain": [
       "  Mean: 3km Shortest path distance Shortest Path  \\\n",
       "0                  Shadow part (%)      5.225535   \n",
       "1                Shadow length (m)    124.979047   \n",
       "2                  Full length (m)   2447.563223   \n",
       "3       Ratio shortest/optimal (%)             -   \n",
       "\n",
       "   Optimal Shadow Path: cost_function_1  Optimal Shadow Path: cost_function_2  \n",
       "0                             18.044356                              7.143512  \n",
       "1                            621.457614                            178.922996  \n",
       "2                           3240.987520                           2472.471876  \n",
       "3                              0.778846                              0.990763  "
      ]
     },
     "execution_count": 229,
     "metadata": {},
     "output_type": "execute_result"
    }
   ],
   "source": [
    "returnDfStats3km"
   ]
  },
  {
   "cell_type": "code",
   "execution_count": 230,
   "metadata": {},
   "outputs": [],
   "source": [
    "returnDfStats4km = calculateStats(list_of_4km_paths_shortest, list_of_4km_paths_cost1, list_of_4km_paths_cost2, \"Mean: 4km Shortest path distance\")"
   ]
  },
  {
   "cell_type": "code",
   "execution_count": 231,
   "metadata": {},
   "outputs": [
    {
     "data": {
      "text/html": [
       "<div>\n",
       "<style scoped>\n",
       "    .dataframe tbody tr th:only-of-type {\n",
       "        vertical-align: middle;\n",
       "    }\n",
       "\n",
       "    .dataframe tbody tr th {\n",
       "        vertical-align: top;\n",
       "    }\n",
       "\n",
       "    .dataframe thead th {\n",
       "        text-align: right;\n",
       "    }\n",
       "</style>\n",
       "<table border=\"1\" class=\"dataframe\">\n",
       "  <thead>\n",
       "    <tr style=\"text-align: right;\">\n",
       "      <th></th>\n",
       "      <th>Mean: 4km Shortest path distance</th>\n",
       "      <th>Shortest Path</th>\n",
       "      <th>Optimal Shadow Path: cost_function_1</th>\n",
       "      <th>Optimal Shadow Path: cost_function_2</th>\n",
       "    </tr>\n",
       "  </thead>\n",
       "  <tbody>\n",
       "    <tr>\n",
       "      <th>0</th>\n",
       "      <td>Shadow part (%)</td>\n",
       "      <td>21.430754</td>\n",
       "      <td>38.071031</td>\n",
       "      <td>25.729092</td>\n",
       "    </tr>\n",
       "    <tr>\n",
       "      <th>1</th>\n",
       "      <td>Shadow length (m)</td>\n",
       "      <td>734.270767</td>\n",
       "      <td>2204.313710</td>\n",
       "      <td>908.676003</td>\n",
       "    </tr>\n",
       "    <tr>\n",
       "      <th>2</th>\n",
       "      <td>Full length (m)</td>\n",
       "      <td>3521.83007</td>\n",
       "      <td>5590.308004</td>\n",
       "      <td>3553.394021</td>\n",
       "    </tr>\n",
       "    <tr>\n",
       "      <th>3</th>\n",
       "      <td>Ratio shortest/optimal (%)</td>\n",
       "      <td>-</td>\n",
       "      <td>0.695179</td>\n",
       "      <td>0.992045</td>\n",
       "    </tr>\n",
       "  </tbody>\n",
       "</table>\n",
       "</div>"
      ],
      "text/plain": [
       "  Mean: 4km Shortest path distance Shortest Path  \\\n",
       "0                  Shadow part (%)     21.430754   \n",
       "1                Shadow length (m)    734.270767   \n",
       "2                  Full length (m)    3521.83007   \n",
       "3       Ratio shortest/optimal (%)             -   \n",
       "\n",
       "   Optimal Shadow Path: cost_function_1  Optimal Shadow Path: cost_function_2  \n",
       "0                             38.071031                             25.729092  \n",
       "1                           2204.313710                            908.676003  \n",
       "2                           5590.308004                           3553.394021  \n",
       "3                              0.695179                              0.992045  "
      ]
     },
     "execution_count": 231,
     "metadata": {},
     "output_type": "execute_result"
    }
   ],
   "source": [
    "returnDfStats4km"
   ]
  },
  {
   "cell_type": "code",
   "execution_count": 232,
   "metadata": {},
   "outputs": [],
   "source": [
    "returnDfStats5km = calculateStats(list_of_5km_paths_shortest, list_of_5km_paths_cost1, list_of_5km_paths_cost2, \"Mean: 5km Shortest path distance\")"
   ]
  },
  {
   "cell_type": "code",
   "execution_count": 233,
   "metadata": {},
   "outputs": [
    {
     "data": {
      "text/html": [
       "<div>\n",
       "<style scoped>\n",
       "    .dataframe tbody tr th:only-of-type {\n",
       "        vertical-align: middle;\n",
       "    }\n",
       "\n",
       "    .dataframe tbody tr th {\n",
       "        vertical-align: top;\n",
       "    }\n",
       "\n",
       "    .dataframe thead th {\n",
       "        text-align: right;\n",
       "    }\n",
       "</style>\n",
       "<table border=\"1\" class=\"dataframe\">\n",
       "  <thead>\n",
       "    <tr style=\"text-align: right;\">\n",
       "      <th></th>\n",
       "      <th>Mean: 5km Shortest path distance</th>\n",
       "      <th>Shortest Path</th>\n",
       "      <th>Optimal Shadow Path: cost_function_1</th>\n",
       "      <th>Optimal Shadow Path: cost_function_2</th>\n",
       "    </tr>\n",
       "  </thead>\n",
       "  <tbody>\n",
       "    <tr>\n",
       "      <th>0</th>\n",
       "      <td>Shadow part (%)</td>\n",
       "      <td>17.131357</td>\n",
       "      <td>35.242768</td>\n",
       "      <td>23.900148</td>\n",
       "    </tr>\n",
       "    <tr>\n",
       "      <th>1</th>\n",
       "      <td>Shadow length (m)</td>\n",
       "      <td>767.93137</td>\n",
       "      <td>2132.472854</td>\n",
       "      <td>1102.274418</td>\n",
       "    </tr>\n",
       "    <tr>\n",
       "      <th>2</th>\n",
       "      <td>Full length (m)</td>\n",
       "      <td>4639.630814</td>\n",
       "      <td>5756.934635</td>\n",
       "      <td>4708.242354</td>\n",
       "    </tr>\n",
       "    <tr>\n",
       "      <th>3</th>\n",
       "      <td>Ratio shortest/optimal (%)</td>\n",
       "      <td>-</td>\n",
       "      <td>0.839085</td>\n",
       "      <td>0.985777</td>\n",
       "    </tr>\n",
       "  </tbody>\n",
       "</table>\n",
       "</div>"
      ],
      "text/plain": [
       "  Mean: 5km Shortest path distance Shortest Path  \\\n",
       "0                  Shadow part (%)     17.131357   \n",
       "1                Shadow length (m)     767.93137   \n",
       "2                  Full length (m)   4639.630814   \n",
       "3       Ratio shortest/optimal (%)             -   \n",
       "\n",
       "   Optimal Shadow Path: cost_function_1  Optimal Shadow Path: cost_function_2  \n",
       "0                             35.242768                             23.900148  \n",
       "1                           2132.472854                           1102.274418  \n",
       "2                           5756.934635                           4708.242354  \n",
       "3                              0.839085                              0.985777  "
      ]
     },
     "execution_count": 233,
     "metadata": {},
     "output_type": "execute_result"
    }
   ],
   "source": [
    "returnDfStats5km"
   ]
  },
  {
   "cell_type": "code",
   "execution_count": 234,
   "metadata": {},
   "outputs": [],
   "source": [
    "returnDfStats6km = calculateStats(list_of_6km_paths_shortest, list_of_6km_paths_cost1, list_of_6km_paths_cost2, \"Mean: 6km Shortest path distance\")"
   ]
  },
  {
   "cell_type": "code",
   "execution_count": 235,
   "metadata": {},
   "outputs": [
    {
     "data": {
      "text/html": [
       "<div>\n",
       "<style scoped>\n",
       "    .dataframe tbody tr th:only-of-type {\n",
       "        vertical-align: middle;\n",
       "    }\n",
       "\n",
       "    .dataframe tbody tr th {\n",
       "        vertical-align: top;\n",
       "    }\n",
       "\n",
       "    .dataframe thead th {\n",
       "        text-align: right;\n",
       "    }\n",
       "</style>\n",
       "<table border=\"1\" class=\"dataframe\">\n",
       "  <thead>\n",
       "    <tr style=\"text-align: right;\">\n",
       "      <th></th>\n",
       "      <th>Mean: 6km Shortest path distance</th>\n",
       "      <th>Shortest Path</th>\n",
       "      <th>Optimal Shadow Path: cost_function_1</th>\n",
       "      <th>Optimal Shadow Path: cost_function_2</th>\n",
       "    </tr>\n",
       "  </thead>\n",
       "  <tbody>\n",
       "    <tr>\n",
       "      <th>0</th>\n",
       "      <td>Shadow part (%)</td>\n",
       "      <td>6.146437</td>\n",
       "      <td>20.906421</td>\n",
       "      <td>7.289291</td>\n",
       "    </tr>\n",
       "    <tr>\n",
       "      <th>1</th>\n",
       "      <td>Shadow length (m)</td>\n",
       "      <td>330.641847</td>\n",
       "      <td>1819.367789</td>\n",
       "      <td>394.275242</td>\n",
       "    </tr>\n",
       "    <tr>\n",
       "      <th>2</th>\n",
       "      <td>Full length (m)</td>\n",
       "      <td>5413.828027</td>\n",
       "      <td>7510.722273</td>\n",
       "      <td>5425.512751</td>\n",
       "    </tr>\n",
       "    <tr>\n",
       "      <th>3</th>\n",
       "      <td>Ratio shortest/optimal (%)</td>\n",
       "      <td>-</td>\n",
       "      <td>0.759904</td>\n",
       "      <td>0.997867</td>\n",
       "    </tr>\n",
       "  </tbody>\n",
       "</table>\n",
       "</div>"
      ],
      "text/plain": [
       "  Mean: 6km Shortest path distance Shortest Path  \\\n",
       "0                  Shadow part (%)      6.146437   \n",
       "1                Shadow length (m)    330.641847   \n",
       "2                  Full length (m)   5413.828027   \n",
       "3       Ratio shortest/optimal (%)             -   \n",
       "\n",
       "   Optimal Shadow Path: cost_function_1  Optimal Shadow Path: cost_function_2  \n",
       "0                             20.906421                              7.289291  \n",
       "1                           1819.367789                            394.275242  \n",
       "2                           7510.722273                           5425.512751  \n",
       "3                              0.759904                              0.997867  "
      ]
     },
     "execution_count": 235,
     "metadata": {},
     "output_type": "execute_result"
    }
   ],
   "source": [
    "returnDfStats6km"
   ]
  },
  {
   "cell_type": "code",
   "execution_count": 236,
   "metadata": {},
   "outputs": [],
   "source": [
    "returnDfStats7km = calculateStats(list_of_7km_paths_shortest, list_of_7km_paths_cost1, list_of_7km_paths_cost2, \"Mean: 7km Shortest path distance\")"
   ]
  },
  {
   "cell_type": "code",
   "execution_count": 237,
   "metadata": {},
   "outputs": [
    {
     "data": {
      "text/html": [
       "<div>\n",
       "<style scoped>\n",
       "    .dataframe tbody tr th:only-of-type {\n",
       "        vertical-align: middle;\n",
       "    }\n",
       "\n",
       "    .dataframe tbody tr th {\n",
       "        vertical-align: top;\n",
       "    }\n",
       "\n",
       "    .dataframe thead th {\n",
       "        text-align: right;\n",
       "    }\n",
       "</style>\n",
       "<table border=\"1\" class=\"dataframe\">\n",
       "  <thead>\n",
       "    <tr style=\"text-align: right;\">\n",
       "      <th></th>\n",
       "      <th>Mean: 7km Shortest path distance</th>\n",
       "      <th>Shortest Path</th>\n",
       "      <th>Optimal Shadow Path: cost_function_1</th>\n",
       "      <th>Optimal Shadow Path: cost_function_2</th>\n",
       "    </tr>\n",
       "  </thead>\n",
       "  <tbody>\n",
       "    <tr>\n",
       "      <th>0</th>\n",
       "      <td>Shadow part (%)</td>\n",
       "      <td>7.484395</td>\n",
       "      <td>25.437551</td>\n",
       "      <td>10.087777</td>\n",
       "    </tr>\n",
       "    <tr>\n",
       "      <th>1</th>\n",
       "      <td>Shadow length (m)</td>\n",
       "      <td>512.099358</td>\n",
       "      <td>2615.762684</td>\n",
       "      <td>694.509742</td>\n",
       "    </tr>\n",
       "    <tr>\n",
       "      <th>2</th>\n",
       "      <td>Full length (m)</td>\n",
       "      <td>6556.919636</td>\n",
       "      <td>9569.797040</td>\n",
       "      <td>6604.202999</td>\n",
       "    </tr>\n",
       "    <tr>\n",
       "      <th>3</th>\n",
       "      <td>Ratio shortest/optimal (%)</td>\n",
       "      <td>-</td>\n",
       "      <td>0.717057</td>\n",
       "      <td>0.992991</td>\n",
       "    </tr>\n",
       "  </tbody>\n",
       "</table>\n",
       "</div>"
      ],
      "text/plain": [
       "  Mean: 7km Shortest path distance Shortest Path  \\\n",
       "0                  Shadow part (%)      7.484395   \n",
       "1                Shadow length (m)    512.099358   \n",
       "2                  Full length (m)   6556.919636   \n",
       "3       Ratio shortest/optimal (%)             -   \n",
       "\n",
       "   Optimal Shadow Path: cost_function_1  Optimal Shadow Path: cost_function_2  \n",
       "0                             25.437551                             10.087777  \n",
       "1                           2615.762684                            694.509742  \n",
       "2                           9569.797040                           6604.202999  \n",
       "3                              0.717057                              0.992991  "
      ]
     },
     "execution_count": 237,
     "metadata": {},
     "output_type": "execute_result"
    }
   ],
   "source": [
    "returnDfStats7km"
   ]
  },
  {
   "cell_type": "code",
   "execution_count": 239,
   "metadata": {},
   "outputs": [],
   "source": [
    "returnDfStats8km = calculateStats(list_of_8km_paths_shortest, list_of_8km_paths_cost1, list_of_8km_paths_cost2, \"Mean: 8km Shortest path distance\")"
   ]
  },
  {
   "cell_type": "code",
   "execution_count": 240,
   "metadata": {},
   "outputs": [
    {
     "data": {
      "text/html": [
       "<div>\n",
       "<style scoped>\n",
       "    .dataframe tbody tr th:only-of-type {\n",
       "        vertical-align: middle;\n",
       "    }\n",
       "\n",
       "    .dataframe tbody tr th {\n",
       "        vertical-align: top;\n",
       "    }\n",
       "\n",
       "    .dataframe thead th {\n",
       "        text-align: right;\n",
       "    }\n",
       "</style>\n",
       "<table border=\"1\" class=\"dataframe\">\n",
       "  <thead>\n",
       "    <tr style=\"text-align: right;\">\n",
       "      <th></th>\n",
       "      <th>Mean: 8km Shortest path distance</th>\n",
       "      <th>Shortest Path</th>\n",
       "      <th>Optimal Shadow Path: cost_function_1</th>\n",
       "      <th>Optimal Shadow Path: cost_function_2</th>\n",
       "    </tr>\n",
       "  </thead>\n",
       "  <tbody>\n",
       "    <tr>\n",
       "      <th>0</th>\n",
       "      <td>Shadow part (%)</td>\n",
       "      <td>12.257712</td>\n",
       "      <td>29.311653</td>\n",
       "      <td>19.621623</td>\n",
       "    </tr>\n",
       "    <tr>\n",
       "      <th>1</th>\n",
       "      <td>Shadow length (m)</td>\n",
       "      <td>947.439462</td>\n",
       "      <td>3137.768233</td>\n",
       "      <td>1564.657366</td>\n",
       "    </tr>\n",
       "    <tr>\n",
       "      <th>2</th>\n",
       "      <td>Full length (m)</td>\n",
       "      <td>7745.431361</td>\n",
       "      <td>10432.754099</td>\n",
       "      <td>7939.234294</td>\n",
       "    </tr>\n",
       "    <tr>\n",
       "      <th>3</th>\n",
       "      <td>Ratio shortest/optimal (%)</td>\n",
       "      <td>-</td>\n",
       "      <td>0.760236</td>\n",
       "      <td>0.975765</td>\n",
       "    </tr>\n",
       "  </tbody>\n",
       "</table>\n",
       "</div>"
      ],
      "text/plain": [
       "  Mean: 8km Shortest path distance Shortest Path  \\\n",
       "0                  Shadow part (%)     12.257712   \n",
       "1                Shadow length (m)    947.439462   \n",
       "2                  Full length (m)   7745.431361   \n",
       "3       Ratio shortest/optimal (%)             -   \n",
       "\n",
       "   Optimal Shadow Path: cost_function_1  Optimal Shadow Path: cost_function_2  \n",
       "0                             29.311653                             19.621623  \n",
       "1                           3137.768233                           1564.657366  \n",
       "2                          10432.754099                           7939.234294  \n",
       "3                              0.760236                              0.975765  "
      ]
     },
     "execution_count": 240,
     "metadata": {},
     "output_type": "execute_result"
    }
   ],
   "source": [
    "returnDfStats8km"
   ]
  },
  {
   "cell_type": "code",
   "execution_count": 241,
   "metadata": {},
   "outputs": [],
   "source": [
    "data = [['Shadow part (%)', mean_part_shortest*100, mean_shadow_part_cost1*100, mean_shadow_part_cost2*100], \n",
    "         ['Shadow length (m)', mean_shadow_length_shortest, mean_shadow_length_cost1,mean_shadow_length_cost2], \n",
    "         ['Full length (m)', mean_total_length_shortest, mean_total_length_cost1, mean_total_length_cost2],\n",
    "         ['Ratio shortest/optimal (%)', \"-\", mean_ratio_cost1, mean_ratio_cost2]]\n",
    "\n",
    "df_columns = ['Mean', 'Shortest Path', 'Optimal Shadow Path: cost_function_1','Optimal Shadow Path: cost_function_2']\n",
    "\n",
    "dfMean=create_df(data, df_columns)"
   ]
  },
  {
   "cell_type": "code",
   "execution_count": null,
   "metadata": {},
   "outputs": [],
   "source": [
    "\n",
    "tableMean = [['Mean', 'full_length', 'cost_function_2'], \n",
    "         ['Shadow part (%)', mean_part_shortest*100, mean_shadow_part_cost2*100], \n",
    "         ['Shadow length (m)', mean_shadow_length_shortest, mean_shadow_length_cost2], \n",
    "         ['Full length (m)', mean_total_length_shortest, mean_total_length_cost2]]\n",
    "\n",
    "print(tabulate(tableMean))\n",
    "\n",
    "\n",
    "tableStdev = [['Stdev', 'full_length', 'cost_function_2'], \n",
    "         ['Shadow part (%)', stdev_part_shortest*100, stdev_part_cost2*100], \n",
    "         ['Shadow length (m)', stdev_shadow_length_shortest, stdev_shadow_length_cost2], \n",
    "         ['Full length (m)', stdev_total_length_shortest, stdev_total_length_cost2]]\n",
    "\n",
    "print(tabulate(tableStdev))"
   ]
  },
  {
   "cell_type": "code",
   "execution_count": 63,
   "metadata": {},
   "outputs": [
    {
     "ename": "NameError",
     "evalue": "name 'means' is not defined",
     "output_type": "error",
     "traceback": [
      "\u001b[0;31m---------------------------------------------------------------------------\u001b[0m",
      "\u001b[0;31mNameError\u001b[0m                                 Traceback (most recent call last)",
      "Cell \u001b[0;32mIn [63], line 3\u001b[0m\n\u001b[1;32m      1\u001b[0m domain \u001b[39m=\u001b[39m np\u001b[39m.\u001b[39mlinspace(\u001b[39m-\u001b[39m\u001b[39m2\u001b[39m, \u001b[39m2\u001b[39m, \u001b[39m1000\u001b[39m) \u001b[39m# dividing the distance between -2 and 2 into 1000 points\u001b[39;00m\n\u001b[1;32m      2\u001b[0m plt\u001b[39m.\u001b[39mfigure(figsize\u001b[39m=\u001b[39m(\u001b[39m16\u001b[39m, \u001b[39m9\u001b[39m))\n\u001b[0;32m----> 3\u001b[0m \u001b[39mfor\u001b[39;00m mu, std \u001b[39min\u001b[39;00m \u001b[39mzip\u001b[39m(means, std_values):\n\u001b[1;32m      4\u001b[0m     \u001b[39m# pdf stands for Probability Density Function, which is the plot the probabilities of each range of values\u001b[39;00m\n\u001b[1;32m      5\u001b[0m     probabilities \u001b[39m=\u001b[39m norm\u001b[39m.\u001b[39mpdf(domain, mu, std)\n\u001b[1;32m      6\u001b[0m     plt\u001b[39m.\u001b[39mplot(domain, probabilities, label\u001b[39m=\u001b[39m\u001b[39mf\u001b[39m\u001b[39m\"\u001b[39m\u001b[39m$\u001b[39m\u001b[39m\\\u001b[39m\u001b[39mmu=\u001b[39m\u001b[39m{\u001b[39;00mmu\u001b[39m}\u001b[39;00m\u001b[39m$\u001b[39m\u001b[39m\\n\u001b[39;00m\u001b[39m$\u001b[39m\u001b[39m\\\u001b[39m\u001b[39msigma=\u001b[39m\u001b[39m{\u001b[39;00mstd\u001b[39m}\u001b[39;00m\u001b[39m$\u001b[39m\u001b[39m\\n\u001b[39;00m\u001b[39m\"\u001b[39m)\n",
      "\u001b[0;31mNameError\u001b[0m: name 'means' is not defined"
     ]
    },
    {
     "data": {
      "text/plain": [
       "<Figure size 1600x900 with 0 Axes>"
      ]
     },
     "metadata": {},
     "output_type": "display_data"
    }
   ],
   "source": [
    "domain = np.linspace(-2, 2, 1000) # dividing the distance between -2 and 2 into 1000 points\n",
    "plt.figure(figsize=(16, 9))\n",
    "for mu, std in zip(means, std_values):\n",
    "    # pdf stands for Probability Density Function, which is the plot the probabilities of each range of values\n",
    "    probabilities = norm.pdf(domain, mu, std)\n",
    "    plt.plot(domain, probabilities, label=f\"$\\mu={mu}$\\n$\\sigma={std}$\\n\")\n",
    "\n",
    "plt.legend()\n",
    "plt.xlabel(\"Value\")\n",
    "plt.ylabel(\"Probability\")\n",
    "plt.show()"
   ]
  },
  {
   "cell_type": "code",
   "execution_count": null,
   "metadata": {},
   "outputs": [],
   "source": [
    "get_shadowed_part_of_path(regular_shortest_path)"
   ]
  },
  {
   "cell_type": "code",
   "execution_count": null,
   "metadata": {},
   "outputs": [],
   "source": [
    "get_shadowed_part_of_path(regular_shortest_path)"
   ]
  },
  {
   "cell_type": "code",
   "execution_count": null,
   "metadata": {},
   "outputs": [],
   "source": [
    "#Testing\n",
    "\n",
    "# Function for benchmarking a cost function against the regular shortst path with 'full_length' as the weight\n",
    "\n",
    "def cost_function_performance(src, dst, cost_function):\n",
    "    regular_shortest_path = nx.shortest_path(G, source=src, target=dst, weight='full_length')\n",
    "    print(\"INSIDE COST FUNCTION\")\n",
    "    print()\n",
    "    optimized_path = nx.shortest_path(G, source=src, target=dst, weight=cost_function)\n",
    "    print()\n",
    "    print(\"OUTSIDE COST FUNCTION\")\n",
    "    print()\n",
    "    shadowed_part_regular = get_shadowed_part_of_path(regular_shortest_path)\n",
    "    shadowed_part_optimized = get_shadowed_part_of_path(optimized_path)\n",
    "    benchmark = shadowed_part_regular\n",
    "    performance = 100*(shadowed_part_optimized/benchmark)\n",
    "    print(\"shadowed_part_regular = \",end='') \n",
    "    print(shadowed_part_regular)\n",
    "    print(\"shadowed_part_optimized = \",end='')\n",
    "    print(shadowed_part_optimized)\n",
    "    print(\"benchmark = \", end='')\n",
    "    print(benchmark)\n",
    "    print(\"performance = \",end='')\n",
    "    print(performance)\n",
    "    return performance\n"
   ]
  },
  {
   "cell_type": "code",
   "execution_count": null,
   "metadata": {},
   "outputs": [],
   "source": [
    "def cost_function_performance(src, dst, cost_function):\n",
    "    #calculate shortest path\n",
    "    regular_shortest_path = nx.shortest_path(G, source=src, target=dst, weight='full_length')\n",
    "    print(\"INSIDE COST FUNCTION\")\n",
    "    print()\n",
    "    optimized_path = nx.shortest_path(G, source=src, target=dst, weight=cost_function)\n",
    "    print()\n",
    "    print(\"OUTSIDE COST FUNCTION\")\n",
    "    print()\n",
    "    shadowed_part_regular = get_shadowed_part_of_path(regular_shortest_path)\n",
    "    shadowed_part_optimized = get_shadowed_part_of_path(optimized_path)\n",
    "    benchmark = shadowed_part_regular\n",
    "    performance = 100*(shadowed_part_optimized/benchmark)\n",
    "    #print(\"shadowed_part_regular = \",end='') \n",
    "   # print(shadowed_part_regular)\n",
    "    print(\"shadowed_part_optimized = \",end='')\n",
    "    print(shadowed_part_optimized)\n",
    "    print(\"benchmark = \", end='')\n",
    "    print(benchmark)\n",
    "    print(\"performance = \",end='')\n",
    "    print(performance)\n",
    "    return performance"
   ]
  },
  {
   "cell_type": "code",
   "execution_count": null,
   "metadata": {},
   "outputs": [],
   "source": [
    "get_total_path_length(regular_shortest_path)"
   ]
  },
  {
   "cell_type": "code",
   "execution_count": null,
   "metadata": {},
   "outputs": [],
   "source": [
    "def get_degree_difference(path1, path2):\n",
    "    return len(path1)-len(path2)\n"
   ]
  },
  {
   "cell_type": "code",
   "execution_count": null,
   "metadata": {},
   "outputs": [],
   "source": [
    "print(get_degree_difference(optimal_path_test1,regular_shortest_path))"
   ]
  },
  {
   "cell_type": "code",
   "execution_count": null,
   "metadata": {},
   "outputs": [],
   "source": [
    "#This is a function to get number of nodes that differ between two paths"
   ]
  },
  {
   "cell_type": "code",
   "execution_count": null,
   "metadata": {},
   "outputs": [],
   "source": [
    "#########################################################################################################################################################################################################"
   ]
  },
  {
   "cell_type": "code",
   "execution_count": null,
   "metadata": {},
   "outputs": [],
   "source": [
    "p_u = Point((x_lookup[15633],y_lookup[15633]))\n",
    "p_v = Point((x_lookup[1],y_lookup[1]))"
   ]
  },
  {
   "cell_type": "code",
   "execution_count": null,
   "metadata": {},
   "outputs": [],
   "source": [
    "x_lookup[]\n",
    "y_lookup[]"
   ]
  },
  {
   "cell_type": "code",
   "execution_count": null,
   "metadata": {},
   "outputs": [],
   "source": [
    "print(p_u)\n",
    "print(p_v)"
   ]
  },
  {
   "cell_type": "code",
   "execution_count": null,
   "metadata": {},
   "outputs": [],
   "source": [
    "string = LineString([(-1.2338981,52.9724785),(-1.0771582,53.0405631)])"
   ]
  },
  {
   "cell_type": "code",
   "execution_count": null,
   "metadata": {},
   "outputs": [],
   "source": [
    "print (string)"
   ]
  },
  {
   "cell_type": "code",
   "execution_count": null,
   "metadata": {},
   "outputs": [],
   "source": [
    "LineString([p_u,p_v])"
   ]
  },
  {
   "cell_type": "code",
   "execution_count": null,
   "metadata": {},
   "outputs": [],
   "source": [
    "# Function for extracting the LineString of the shortest path\n",
    "\n",
    "def get_path_coords(path):\n",
    "    x_lookup = nx.get_node_attributes(G, \"x\")\n",
    "    y_lookup = nx.get_node_attributes(G, \"y\")\n",
    "    \n",
    "    path_nodes_coords = []\n",
    "    for node in path:\n",
    "        node_coords = [x_lookup[node],y_lookup[node]]\n",
    "        path_nodes_coords.append(node_coords)\n",
    "    return path_nodes_coords"
   ]
  },
  {
   "cell_type": "code",
   "execution_count": null,
   "metadata": {},
   "outputs": [],
   "source": [
    "get_path_coords(test)"
   ]
  },
  {
   "cell_type": "code",
   "execution_count": null,
   "metadata": {},
   "outputs": [],
   "source": [
    "# Function which makes feature collection from a list\n",
    "def coords_to_geoJson(listCoord):\n",
    "    coords = []\n",
    "    for pt in listCoord:\n",
    "         coords.append((pt[0], pt[1]))\n",
    "\n",
    "\n",
    "    my_list = LineString(coords)\n",
    "\n",
    "    my_feature = Feature(geometry=my_list)\n",
    "\n",
    "    feature_collection = FeatureCollection([my_feature])\n",
    "    return feature_collection"
   ]
  }
 ],
 "metadata": {
  "kernelspec": {
   "display_name": "Python 3.11.0 ('geo_env')",
   "language": "python",
   "name": "python3"
  },
  "language_info": {
   "codemirror_mode": {
    "name": "ipython",
    "version": 3
   },
   "file_extension": ".py",
   "mimetype": "text/x-python",
   "name": "python",
   "nbconvert_exporter": "python",
   "pygments_lexer": "ipython3",
   "version": "3.11.0"
  },
  "orig_nbformat": 4,
  "vscode": {
   "interpreter": {
    "hash": "f32e351f57aeb664faa7816a031356cbc1b08f4c973bc5542b4a0ffec62e3c9c"
   }
  }
 },
 "nbformat": 4,
 "nbformat_minor": 2
}
