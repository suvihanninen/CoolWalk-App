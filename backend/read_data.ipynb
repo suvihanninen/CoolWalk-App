{
 "cells": [
  {
   "cell_type": "code",
   "execution_count": 1,
   "metadata": {},
   "outputs": [],
   "source": [
    "# import modules\n",
    "import geopandas as gpd\n",
    "import matplotlib.pyplot as plt\n",
    "from shapely import wkt\n",
    "from shapely.geometry import Point\n",
    "import shapely\n",
    "import osmnx as ox\n",
    "import pandas as pd\n",
    "import networkx as nx\n",
    "from shapely.geometry import LineString\n",
    "from tabulate import tabulate"
   ]
  },
  {
   "cell_type": "code",
   "execution_count": 2,
   "metadata": {},
   "outputs": [],
   "source": [
    "# Reading csv files into panda DataFrames\n",
    "dfNodes = pd.read_csv(\"/mnt/c/users/kriso/documents/itu/5th_semester/research_project/CoolWalk/datab /CoolWalksDataStorge/nodes.csv\")\n",
    "dfEdges = pd.read_csv(\"/mnt/c/users/kriso/documents/itu/5th_semester/research_project/CoolWalk/data/CoolWalksDataStorge/edges.csv\")\n",
    "dfShadeEdge = pd.read_csv(\"/mnt/c/users/kriso/documents/itu/5th_semester/research_project/CoolWalk/data/CoolWalksDataStorge/edges.csv\")"
   ]
  }
 ],
 "metadata": {
  "kernelspec": {
   "display_name": "Python 3.8.13 ('base')",
   "language": "python",
   "name": "python3"
  },
  "language_info": {
   "codemirror_mode": {
    "name": "ipython",
    "version": 3
   },
   "file_extension": ".py",
   "mimetype": "text/x-python",
   "name": "python",
   "nbconvert_exporter": "python",
   "pygments_lexer": "ipython3",
   "version": "3.8.13"
  },
  "orig_nbformat": 4,
  "vscode": {
   "interpreter": {
    "hash": "dfaa8fddb73a1a3e367138f068370332ec85c73bd726b1a8b161d260ef8ea6e0"
   }
  }
 },
 "nbformat": 4,
 "nbformat_minor": 2
}
